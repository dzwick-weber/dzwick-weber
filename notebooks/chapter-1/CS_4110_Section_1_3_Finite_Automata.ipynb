{
  "nbformat": 4,
  "nbformat_minor": 0,
  "metadata": {
    "colab": {
      "provenance": []
    },
    "kernelspec": {
      "name": "python3",
      "display_name": "Python 3"
    },
    "language_info": {
      "name": "python"
    }
  },
  "cells": [
    {
      "cell_type": "markdown",
      "source": [
        "#Section 1.3: Deterministic Finite Automata (DFAs)"
      ],
      "metadata": {
        "id": "ChVE6LNR4XT3"
      }
    },
    {
      "cell_type": "markdown",
      "source": [
        "##Learning Objectives"
      ],
      "metadata": {
        "id": "W5VkRVtK5cKq"
      }
    },
    {
      "cell_type": "markdown",
      "source": [
        "After completing this chapter, you will be able to:\n",
        "\n",
        "* Define a deterministic finite automaton (DFA).\n",
        "* Represent a DFA with a state diagram or a transition table.\n",
        "* Work with and understand a DFA class built in Python.\n",
        "* Define a language with a DFA."
      ],
      "metadata": {
        "id": "eXR2G93J5eZw"
      }
    },
    {
      "cell_type": "markdown",
      "source": [
        "## 1.3.1 Basic Concepts and Definitions"
      ],
      "metadata": {
        "id": "Q5qfeYK26W52"
      }
    },
    {
      "cell_type": "markdown",
      "source": [
        "Let's talk about games.\n",
        "\n",
        "In the United States two popular games for children are Candyland and Chutes and Ladders. You may have played them when you were a kid. The basic idea for both is very simple - you move along a sequence of squares by either drawing cards or rolling dice, and the goal is to get to the end of the sequence. It's a race, but there's no strategy involved - whether you win or lose is entirely up to the luck of either the draw or the roll. It's good for children, and it teaches them to follow directions and pay attention, but whether you win the game is based on chance and it's not possible to get \"good\" at playing the game."
      ],
      "metadata": {
        "id": "pUk9OVa_6bo1"
      }
    },
    {
      "cell_type": "markdown",
      "source": [
        "<center>\n",
        "  <img src=\"https://drive.google.com/uc?export=view&id=1kMNyzLVOnLLX_tnz5md6-pex-mDOueW_\" height = \"500\" alt=\"Candyland\">\n",
        "  <br>\n",
        "  <img src=\"https://drive.google.com/uc?export=view&id=1yVK7hhT8NUARwvZtAA8MxS_wODHR1Eu4\" height = \"600\" alt=\"Chutes and Ladders\">\n",
        "</center>"
      ],
      "metadata": {
        "id": "h35LV3zEHcxx"
      }
    },
    {
      "cell_type": "markdown",
      "source": [
        "What are some characteristics of these games? Well, they both involve:\n",
        "* A finite set of states, one of which is designated as the initial state, called the *start state*, and some of which are designated winning or *accepting states*.\n",
        "* A set of possible inputs. In these games, either the draw of a card or the roll of a dice.\n",
        "* A finite set of *transitions* that tell you for each state and for each input which state to go to next."
      ],
      "metadata": {
        "id": "L-ZZRDnSHgrH"
      }
    },
    {
      "cell_type": "markdown",
      "source": [
        "This is, essentially, the definition of a *deterministic finite automaton* (DFA for short). It's *deterministic* because for any given state and input there's one and only one transition, it's *finite* because the number of possible states and possible inputs is finite, and it's an *automaton* because the change of states is totally governed by the input. In other words, it's automatic - there is no choice involved. (\"Automaton\" comes from Greek, and its correct plural is \"automata\"). The formal definition is below."
      ],
      "metadata": {
        "id": "zpzBKG95HklE"
      }
    },
    {
      "cell_type": "markdown",
      "source": [
        "---\n",
        "\n",
        "**Definition**\n",
        "\n",
        "A **deterministic finite automaton** (DFA) consists of:\n",
        "* A finite set of states $\\displaystyle Q$.\n",
        "* A finite set $\\displaystyle \\Sigma$ of input characters, called its *alphabet*.\n",
        "* A transition function $T$, where for every state $q \\in Q$ and input character $a \\in \\Sigma$ there is a transition map $T(q,a) \\rightarrow q'$ specifying the next state after the automaton in state $q$ reads the input $a$.\n",
        "* A unique initial state $q_{0}$\n",
        "* A subset $F \\subseteq Q$ of accepting states. Note the set of accepting states could possibly be empty, possibly have more than one element, and possibly contain the initial state.\n",
        "\n",
        "This $5$-tuple, $(Q,\\Sigma,T,q_{0},F)$ defines a finite automaton.\n",
        "\n",
        "---"
      ],
      "metadata": {
        "id": "enf5KZ-6ILmR"
      }
    },
    {
      "cell_type": "markdown",
      "source": [
        "## 1.3.2 Representing DFAs"
      ],
      "metadata": {
        "id": "-JcY9j8hKrf9"
      }
    },
    {
      "cell_type": "markdown",
      "source": [
        "Let's suppose we have a much simpler game than either Candyland or Chutes and Ladders. Instead of rolling a dice we just flip a coin, so the possibilities at any state are just heads and tails. In other words, our input alphabet is just $\\Sigma = \\{H,T\\}$. Our board looks like this:"
      ],
      "metadata": {
        "id": "BFp2fQalK1if"
      }
    },
    {
      "cell_type": "markdown",
      "source": [
        "<center>\n",
        "  <img src=\"https://drive.google.com/uc?export=view&id=1BYLUIXexFtMEWQFAvlBSB8-BQOeAotxD\" height = \"500\" alt=\"Simple Chutes and Ladders\">\n",
        "</center>"
      ],
      "metadata": {
        "id": "M6uY8tkiMCda"
      }
    },
    {
      "cell_type": "markdown",
      "source": [
        "The idea here is that:\n",
        "* The game starts at the initial state $1$.\n",
        "* On the first flip of the coin, the player advances to state $2$ for anything they flip.\n",
        "* At state $2$, if the player flips $T$ they take a ladder to the accepting state $4$. If the player flips $H$, they advance to state $3$.\n",
        "* At state $3$, if the player flips $H$ they take a chute back to the initial state $1$. For $T$, they advance to the accepting state $4$.\n",
        "* If, for some reason, the player wants to keep playing at the accepting state, they just stay there for any coin flip.\n",
        "\n",
        "In the board diagram, the circles (or *nodes*) are the different states, and the arrows (or edges) marked with letters represent how those input letters transition between states. The initial state is marked with $-$, and the accepting states are makred with $+$. This is the basic idea behind the *state diagram* of a DFA, which is a compact and illuminating way of representing all its features."
      ],
      "metadata": {
        "id": "SMS9GgFgKL65"
      }
    },
    {
      "cell_type": "markdown",
      "source": [
        "We could also represent the board using a *transition table*. Specifically, the rows of the table correspond with the states of the DFA, the columns correspond with the possible inputs (the alphabet), and the entries represent the transitions:\n",
        "\n",
        "<center>\n",
        "\n",
        "| State | H | T |\n",
        "| :---: | :---: | :---: |\n",
        "| 1- | 2 | 2 |\n",
        "| 2 | 3 | 4 |\n",
        "| 3 | 1 | 4 |\n",
        "| 4+ | 4 | 4 |\n",
        "\n",
        "</center>"
      ],
      "metadata": {
        "id": "nLGXCIVPM6Be"
      }
    },
    {
      "cell_type": "markdown",
      "source": [
        "## 1.3.3 Representing DFAs in Python"
      ],
      "metadata": {
        "id": "gTx6RYJDl0aS"
      }
    },
    {
      "cell_type": "markdown",
      "source": [
        "We can diagram a DFA in Python using the *Digraph* class from the graphviz library. The *Source* class lets us visualize it. Be sure to run the inport code below before running any of the code later in the notebook."
      ],
      "metadata": {
        "id": "DjzF3_vHbTBt"
      }
    },
    {
      "cell_type": "code",
      "source": [
        "from graphviz import Digraph, Source"
      ],
      "metadata": {
        "id": "eztzlOPmbrOl"
      },
      "execution_count": 2,
      "outputs": []
    },
    {
      "cell_type": "markdown",
      "source": [
        "We can create a class (we'll call it *cal* for \"Chutes and Ladders\"), and then specify the states and the transitions (called nodes and edges in the *Digraph* class)."
      ],
      "metadata": {
        "id": "V3Kx8qchl8IJ"
      }
    },
    {
      "cell_type": "code",
      "source": [
        "cal = Digraph()\n",
        "cal.attr(rankdir='LR') # This specifies the diagram should go left to right\n",
        "\n",
        "# States\n",
        "cal.node('1-', shape='circle') # Initial state\n",
        "cal.node('2', shape='circle')\n",
        "cal.node('3', shape='circle')\n",
        "cal.node('4+', shape='circle') # Accept state\n",
        "\n",
        "# Transitions\n",
        "cal.edge('1-', '2', label='H,T')\n",
        "cal.edge('2', '3', label='H')\n",
        "cal.edge('2', '4+', label='T')\n",
        "cal.edge('3', '1-', label='H')\n",
        "cal.edge('3', '4+', label='T')\n",
        "cal.edge('4+', '4+', label='H,T')\n",
        "\n",
        "#Display the diagram\n",
        "Source(cal.source)"
      ],
      "metadata": {
        "id": "Of4jBjXicnPr",
        "outputId": "39b944f8-081b-45ce-d408-eec5bc95ea65",
        "colab": {
          "base_uri": "https://localhost:8080/",
          "height": 164
        }
      },
      "execution_count": 3,
      "outputs": [
        {
          "output_type": "execute_result",
          "data": {
            "image/svg+xml": "<?xml version=\"1.0\" encoding=\"UTF-8\" standalone=\"no\"?>\n<!DOCTYPE svg PUBLIC \"-//W3C//DTD SVG 1.1//EN\"\n \"http://www.w3.org/Graphics/SVG/1.1/DTD/svg11.dtd\">\n<!-- Generated by graphviz version 2.43.0 (0)\n -->\n<!-- Title: %3 Pages: 1 -->\n<svg width=\"307pt\" height=\"107pt\"\n viewBox=\"0.00 0.00 306.99 106.80\" xmlns=\"http://www.w3.org/2000/svg\" xmlns:xlink=\"http://www.w3.org/1999/xlink\">\n<g id=\"graph0\" class=\"graph\" transform=\"scale(1 1) rotate(0) translate(4 102.8)\">\n<title>%3</title>\n<polygon fill=\"white\" stroke=\"transparent\" points=\"-4,4 -4,-102.8 302.99,-102.8 302.99,4 -4,4\"/>\n<!-- 1&#45; -->\n<g id=\"node1\" class=\"node\">\n<title>1&#45;</title>\n<ellipse fill=\"none\" stroke=\"black\" cx=\"18.2\" cy=\"-25\" rx=\"18.4\" ry=\"18.4\"/>\n<text text-anchor=\"middle\" x=\"18.2\" y=\"-21.3\" font-family=\"Times,serif\" font-size=\"14.00\">1&#45;</text>\n</g>\n<!-- 2 -->\n<g id=\"node2\" class=\"node\">\n<title>2</title>\n<ellipse fill=\"none\" stroke=\"black\" cx=\"112.4\" cy=\"-60\" rx=\"18\" ry=\"18\"/>\n<text text-anchor=\"middle\" x=\"112.4\" y=\"-56.3\" font-family=\"Times,serif\" font-size=\"14.00\">2</text>\n</g>\n<!-- 1&#45;&#45;&gt;2 -->\n<g id=\"edge1\" class=\"edge\">\n<title>1&#45;&#45;&gt;2</title>\n<path fill=\"none\" stroke=\"black\" d=\"M35.68,-31.26C49.66,-36.57 69.95,-44.27 86.01,-50.36\"/>\n<polygon fill=\"black\" stroke=\"black\" points=\"84.77,-53.64 95.37,-53.91 87.26,-47.09 84.77,-53.64\"/>\n<text text-anchor=\"middle\" x=\"65.4\" y=\"-49.8\" font-family=\"Times,serif\" font-size=\"14.00\">H,T</text>\n</g>\n<!-- 3 -->\n<g id=\"node3\" class=\"node\">\n<title>3</title>\n<ellipse fill=\"none\" stroke=\"black\" cx=\"194.4\" cy=\"-18\" rx=\"18\" ry=\"18\"/>\n<text text-anchor=\"middle\" x=\"194.4\" y=\"-14.3\" font-family=\"Times,serif\" font-size=\"14.00\">3</text>\n</g>\n<!-- 2&#45;&gt;3 -->\n<g id=\"edge2\" class=\"edge\">\n<title>2&#45;&gt;3</title>\n<path fill=\"none\" stroke=\"black\" d=\"M128.82,-51.9C140.22,-45.92 155.97,-37.65 169.06,-30.78\"/>\n<polygon fill=\"black\" stroke=\"black\" points=\"170.79,-33.82 178.02,-26.07 167.54,-27.62 170.79,-33.82\"/>\n<text text-anchor=\"middle\" x=\"153.4\" y=\"-44.8\" font-family=\"Times,serif\" font-size=\"14.00\">H</text>\n</g>\n<!-- 4+ -->\n<g id=\"node4\" class=\"node\">\n<title>4+</title>\n<ellipse fill=\"none\" stroke=\"black\" cx=\"278.19\" cy=\"-45\" rx=\"20.6\" ry=\"20.6\"/>\n<text text-anchor=\"middle\" x=\"278.19\" y=\"-41.3\" font-family=\"Times,serif\" font-size=\"14.00\">4+</text>\n</g>\n<!-- 2&#45;&gt;4+ -->\n<g id=\"edge3\" class=\"edge\">\n<title>2&#45;&gt;4+</title>\n<path fill=\"none\" stroke=\"black\" d=\"M130.5,-59.41C138.91,-59.07 149.19,-58.6 158.4,-58 194.45,-55.64 203.53,-55.39 239.4,-51 242.09,-50.67 244.88,-50.29 247.67,-49.89\"/>\n<polygon fill=\"black\" stroke=\"black\" points=\"248.25,-53.35 257.61,-48.38 247.2,-46.42 248.25,-53.35\"/>\n<text text-anchor=\"middle\" x=\"194.4\" y=\"-59.8\" font-family=\"Times,serif\" font-size=\"14.00\">T</text>\n</g>\n<!-- 3&#45;&gt;1&#45; -->\n<g id=\"edge4\" class=\"edge\">\n<title>3&#45;&gt;1&#45;</title>\n<path fill=\"none\" stroke=\"black\" d=\"M176.22,-17.52C156.46,-17.07 123.07,-16.67 94.4,-18 78.53,-18.74 60.85,-20.34 46.61,-21.83\"/>\n<polygon fill=\"black\" stroke=\"black\" points=\"46.05,-18.37 36.49,-22.93 46.81,-25.33 46.05,-18.37\"/>\n<text text-anchor=\"middle\" x=\"112.4\" y=\"-21.8\" font-family=\"Times,serif\" font-size=\"14.00\">H</text>\n</g>\n<!-- 3&#45;&gt;4+ -->\n<g id=\"edge5\" class=\"edge\">\n<title>3&#45;&gt;4+</title>\n<path fill=\"none\" stroke=\"black\" d=\"M211.95,-23.46C222.38,-26.91 236.13,-31.45 248.32,-35.47\"/>\n<polygon fill=\"black\" stroke=\"black\" points=\"247.49,-38.88 258.08,-38.69 249.69,-32.23 247.49,-38.88\"/>\n<text text-anchor=\"middle\" x=\"234.9\" y=\"-35.8\" font-family=\"Times,serif\" font-size=\"14.00\">T</text>\n</g>\n<!-- 4+&#45;&gt;4+ -->\n<g id=\"edge6\" class=\"edge\">\n<title>4+&#45;&gt;4+</title>\n<path fill=\"none\" stroke=\"black\" d=\"M270.6,-64.56C269.43,-74.68 271.96,-83.8 278.19,-83.8 282.19,-83.8 284.66,-80.06 285.62,-74.71\"/>\n<polygon fill=\"black\" stroke=\"black\" points=\"289.12,-74.62 285.79,-64.56 282.12,-74.5 289.12,-74.62\"/>\n<text text-anchor=\"middle\" x=\"278.19\" y=\"-87.6\" font-family=\"Times,serif\" font-size=\"14.00\">H,T</text>\n</g>\n</g>\n</svg>\n",
            "text/plain": [
              "<graphviz.sources.Source at 0x79c3fae37690>"
            ]
          },
          "metadata": {},
          "execution_count": 3
        }
      ]
    },
    {
      "cell_type": "markdown",
      "source": [
        "Another way you'll frequently see DFA state diagrams is with the initial state represented by an incoming arrow that doesn't start on any node, and the accepting states represented by double circle nodes. Using these conventions, the state diagram above would look like:"
      ],
      "metadata": {
        "id": "od3eKAHXfQEa"
      }
    },
    {
      "cell_type": "code",
      "source": [
        "cal2 = Digraph()\n",
        "cal2.attr(rankdir='LR') # This specifies the diagram should go left to right\n",
        "\n",
        "# Start arrow\n",
        "cal2.node('', shape='none')\n",
        "cal2.edge('', '1')\n",
        "\n",
        "# States\n",
        "cal2.node('1', shape='circle') # Initial state\n",
        "cal2.node('2', shape='circle')\n",
        "cal2.node('3', shape='circle')\n",
        "cal2.node('4', shape='doublecircle') # Accept state\n",
        "\n",
        "# Transitions\n",
        "cal2.edge('1', '2', label='H,T')\n",
        "cal2.edge('2', '3', label='H')\n",
        "cal2.edge('2', '4', label='T')\n",
        "cal2.edge('3', '1', label='H')\n",
        "cal2.edge('3', '4', label='T')\n",
        "cal2.edge('4', '4', label='H,T')\n",
        "\n",
        "#Display\n",
        "Source(cal2.source)"
      ],
      "metadata": {
        "id": "9ri-7fCmfjX6",
        "outputId": "2f0636e0-1936-4272-a98b-e2931e460daa",
        "colab": {
          "base_uri": "https://localhost:8080/",
          "height": 165
        }
      },
      "execution_count": 4,
      "outputs": [
        {
          "output_type": "execute_result",
          "data": {
            "image/svg+xml": "<?xml version=\"1.0\" encoding=\"UTF-8\" standalone=\"no\"?>\n<!DOCTYPE svg PUBLIC \"-//W3C//DTD SVG 1.1//EN\"\n \"http://www.w3.org/Graphics/SVG/1.1/DTD/svg11.dtd\">\n<!-- Generated by graphviz version 2.43.0 (0)\n -->\n<!-- Title: %3 Pages: 1 -->\n<svg width=\"400pt\" height=\"108pt\"\n viewBox=\"0.00 0.00 400.00 108.00\" xmlns=\"http://www.w3.org/2000/svg\" xmlns:xlink=\"http://www.w3.org/1999/xlink\">\n<g id=\"graph0\" class=\"graph\" transform=\"scale(1 1) rotate(0) translate(4 104)\">\n<title>%3</title>\n<polygon fill=\"white\" stroke=\"transparent\" points=\"-4,4 -4,-104 396,-104 396,4 -4,4\"/>\n<g id=\"node1\" class=\"node\">\n<title></title>\n</g>\n<!-- 1 -->\n<g id=\"node2\" class=\"node\">\n<title>1</title>\n<ellipse fill=\"none\" stroke=\"black\" cx=\"109\" cy=\"-25\" rx=\"18\" ry=\"18\"/>\n<text text-anchor=\"middle\" x=\"109\" y=\"-21.3\" font-family=\"Times,serif\" font-size=\"14.00\">1</text>\n</g>\n<!-- &#45;&gt;1 -->\n<g id=\"edge1\" class=\"edge\">\n<title>&#45;&gt;1</title>\n<path fill=\"none\" stroke=\"black\" d=\"M54.19,-25C62.65,-25 72.05,-25 80.6,-25\"/>\n<polygon fill=\"black\" stroke=\"black\" points=\"80.83,-28.5 90.83,-25 80.83,-21.5 80.83,-28.5\"/>\n</g>\n<!-- 2 -->\n<g id=\"node3\" class=\"node\">\n<title>2</title>\n<ellipse fill=\"none\" stroke=\"black\" cx=\"203\" cy=\"-60\" rx=\"18\" ry=\"18\"/>\n<text text-anchor=\"middle\" x=\"203\" y=\"-56.3\" font-family=\"Times,serif\" font-size=\"14.00\">2</text>\n</g>\n<!-- 1&#45;&gt;2 -->\n<g id=\"edge2\" class=\"edge\">\n<title>1&#45;&gt;2</title>\n<path fill=\"none\" stroke=\"black\" d=\"M126.03,-31.1C139.92,-36.38 160.29,-44.13 176.44,-50.27\"/>\n<polygon fill=\"black\" stroke=\"black\" points=\"175.26,-53.57 185.85,-53.86 177.75,-47.03 175.26,-53.57\"/>\n<text text-anchor=\"middle\" x=\"156\" y=\"-49.8\" font-family=\"Times,serif\" font-size=\"14.00\">H,T</text>\n</g>\n<!-- 3 -->\n<g id=\"node4\" class=\"node\">\n<title>3</title>\n<ellipse fill=\"none\" stroke=\"black\" cx=\"285\" cy=\"-18\" rx=\"18\" ry=\"18\"/>\n<text text-anchor=\"middle\" x=\"285\" y=\"-14.3\" font-family=\"Times,serif\" font-size=\"14.00\">3</text>\n</g>\n<!-- 2&#45;&gt;3 -->\n<g id=\"edge3\" class=\"edge\">\n<title>2&#45;&gt;3</title>\n<path fill=\"none\" stroke=\"black\" d=\"M219.42,-51.9C230.82,-45.92 246.57,-37.65 259.66,-30.78\"/>\n<polygon fill=\"black\" stroke=\"black\" points=\"261.4,-33.82 268.62,-26.07 258.14,-27.62 261.4,-33.82\"/>\n<text text-anchor=\"middle\" x=\"244\" y=\"-44.8\" font-family=\"Times,serif\" font-size=\"14.00\">H</text>\n</g>\n<!-- 4 -->\n<g id=\"node5\" class=\"node\">\n<title>4</title>\n<ellipse fill=\"none\" stroke=\"black\" cx=\"370\" cy=\"-45\" rx=\"18\" ry=\"18\"/>\n<ellipse fill=\"none\" stroke=\"black\" cx=\"370\" cy=\"-45\" rx=\"22\" ry=\"22\"/>\n<text text-anchor=\"middle\" x=\"370\" y=\"-41.3\" font-family=\"Times,serif\" font-size=\"14.00\">4</text>\n</g>\n<!-- 2&#45;&gt;4 -->\n<g id=\"edge4\" class=\"edge\">\n<title>2&#45;&gt;4</title>\n<path fill=\"none\" stroke=\"black\" d=\"M221.1,-59.41C229.51,-59.07 239.79,-58.6 249,-58 285.06,-55.64 294.12,-55.31 330,-51 332.56,-50.69 335.21,-50.35 337.87,-49.98\"/>\n<polygon fill=\"black\" stroke=\"black\" points=\"338.6,-53.41 347.99,-48.49 337.58,-46.48 338.6,-53.41\"/>\n<text text-anchor=\"middle\" x=\"285\" y=\"-59.8\" font-family=\"Times,serif\" font-size=\"14.00\">T</text>\n</g>\n<!-- 3&#45;&gt;1 -->\n<g id=\"edge5\" class=\"edge\">\n<title>3&#45;&gt;1</title>\n<path fill=\"none\" stroke=\"black\" d=\"M266.82,-17.52C247.07,-17.07 213.67,-16.66 185,-18 169.07,-18.74 151.31,-20.36 137.06,-21.86\"/>\n<polygon fill=\"black\" stroke=\"black\" points=\"136.51,-18.4 126.95,-22.96 137.27,-25.36 136.51,-18.4\"/>\n<text text-anchor=\"middle\" x=\"203\" y=\"-21.8\" font-family=\"Times,serif\" font-size=\"14.00\">H</text>\n</g>\n<!-- 3&#45;&gt;4 -->\n<g id=\"edge6\" class=\"edge\">\n<title>3&#45;&gt;4</title>\n<path fill=\"none\" stroke=\"black\" d=\"M302.4,-23.33C312.91,-26.75 326.87,-31.29 339.28,-35.33\"/>\n<polygon fill=\"black\" stroke=\"black\" points=\"338.23,-38.67 348.82,-38.44 340.39,-32.01 338.23,-38.67\"/>\n<text text-anchor=\"middle\" x=\"325.5\" y=\"-35.8\" font-family=\"Times,serif\" font-size=\"14.00\">T</text>\n</g>\n<!-- 4&#45;&gt;4 -->\n<g id=\"edge7\" class=\"edge\">\n<title>4&#45;&gt;4</title>\n<path fill=\"none\" stroke=\"black\" d=\"M361.99,-65.58C360.89,-75.84 363.55,-85 370,-85 374.13,-85 376.71,-81.24 377.74,-75.84\"/>\n<polygon fill=\"black\" stroke=\"black\" points=\"381.24,-75.67 378.01,-65.58 374.25,-75.49 381.24,-75.67\"/>\n<text text-anchor=\"middle\" x=\"370\" y=\"-88.8\" font-family=\"Times,serif\" font-size=\"14.00\">H,T</text>\n</g>\n</g>\n</svg>\n",
            "text/plain": [
              "<graphviz.sources.Source at 0x79c3f97dc810>"
            ]
          },
          "metadata": {},
          "execution_count": 4
        }
      ]
    },
    {
      "cell_type": "markdown",
      "source": [
        "Now, let's create a DFA Python class. In order to define a finite automaton, we need to provide the tuple described in the definition from Section 1.3.1."
      ],
      "metadata": {
        "id": "ul603uFBgltz"
      }
    },
    {
      "cell_type": "code",
      "source": [
        "class DFA:\n",
        "    def __init__(self, states, alphabet, transition_function, start_state, accept_states):\n",
        "        self.states = set(states)\n",
        "        self.alphabet = set(alphabet)\n",
        "        self.transition_function = transition_function\n",
        "        self.start_state = start_state\n",
        "        self.accept_states = set(accept_states)\n",
        "\n",
        "        self.validate()"
      ],
      "metadata": {
        "id": "oTnSqjp7g6P7"
      },
      "execution_count": 5,
      "outputs": []
    },
    {
      "cell_type": "markdown",
      "source": [
        "This initializes a DFA class, with a set of states, an alphabet (set of characters), transition functions, a start state, and a set of accept states. It also runs a *validate* method to make sure it's a proper tuple and the definition makes sense. This validate method is provided below:"
      ],
      "metadata": {
        "id": "fCoPsFjRg_05"
      }
    },
    {
      "cell_type": "code",
      "source": [
        "def validate(self):\n",
        "  if self.start_state not in self.states:\n",
        "    raise ValueError(\"Start state must be in states.\")\n",
        "  if not self.accept_states.issubset(self.states):\n",
        "    raise ValueError(\"Accept states must be a subset of states.\")\n",
        "\n",
        "  # Ensure total transition function\n",
        "  for state in self.states:\n",
        "    for symbol in self.alphabet:\n",
        "      if (state, symbol) not in self.transition_function:\n",
        "        raise ValueError(f\"Missing transition for state '{state}' on symbol '{symbol}'.\")\n",
        "\n",
        "  # Ensure all transitions are to valid states and symbols\n",
        "  for (state, symbol), next_state in self.transition_function.items():\n",
        "    if state not in self.states or next_state not in self.states:\n",
        "      raise ValueError(f\"Invalid transition: ({state}, {symbol}) → {next_state}\")\n",
        "    if symbol not in self.alphabet:\n",
        "      raise ValueError(f\"Symbol '{symbol}' not in alphabet.\")\n",
        "\n",
        "#Make this function a method for the DFA class.\n",
        "DFA.validate = validate"
      ],
      "metadata": {
        "id": "jOSuN2kUhVpU"
      },
      "execution_count": 6,
      "outputs": []
    },
    {
      "cell_type": "markdown",
      "source": [
        "This method makes sure that:\n",
        "\n",
        "* The specified start states is in the set of states.\n",
        "* The specified accept states are a subset of the set of states.\n",
        "* There is a transition for every state and character in the alphabet.\n",
        "* All transitions are to and from states within the set of states."
      ],
      "metadata": {
        "id": "j2a3tAvliK6Y"
      }
    },
    {
      "cell_type": "markdown",
      "source": [
        "We can test this by creating the simplified Chutes and Ladders DFA from Section 1.3.2 above:"
      ],
      "metadata": {
        "id": "DqAPFUl-ijJn"
      }
    },
    {
      "cell_type": "code",
      "source": [
        "cal = DFA(\n",
        "    states={'1', '2', '3', '4'},\n",
        "    alphabet={'H', 'T'},\n",
        "    transition_function={\n",
        "        ('1', 'H'): '2',\n",
        "        ('1', 'T'): '2',\n",
        "        ('2', 'H'): '3',\n",
        "        ('2', 'T'): '4',\n",
        "        ('3', 'H'): '1',\n",
        "        ('3', 'T'): '4',\n",
        "        ('4', 'H'): '4',\n",
        "        ('4', 'T'): '4'\n",
        "    },\n",
        "    start_state='1',\n",
        "    accept_states={'4'}\n",
        ")"
      ],
      "metadata": {
        "id": "K5C6XZwUiy2l"
      },
      "execution_count": 7,
      "outputs": []
    },
    {
      "cell_type": "markdown",
      "source": [
        "If we were to change this by specifying the start state to be \"42\", the validate method will raise an error, as \"42\" is not in the set of states."
      ],
      "metadata": {
        "id": "EJhRjkcHhwTY"
      }
    },
    {
      "cell_type": "code",
      "source": [
        "adams = DFA(\n",
        "    states={'1', '2', '3', '4'},\n",
        "    alphabet={'H', 'T'},\n",
        "    transition_function={\n",
        "        ('1', 'H'): '2',\n",
        "        ('1', 'T'): '2',\n",
        "        ('2', 'H'): '3',\n",
        "        ('2', 'T'): '4',\n",
        "        ('3', 'H'): '1',\n",
        "        ('3', 'T'): '4',\n",
        "        ('4', 'H'): '4',\n",
        "        ('4', 'T'): '4'\n",
        "    },\n",
        "    start_state='42',\n",
        "    accept_states={'4'}\n",
        ")"
      ],
      "metadata": {
        "id": "5f1rrSUuj9d-",
        "outputId": "009eda28-5253-4a82-c932-19eeaebcd972",
        "colab": {
          "base_uri": "https://localhost:8080/",
          "height": 367
        }
      },
      "execution_count": 8,
      "outputs": [
        {
          "output_type": "error",
          "ename": "ValueError",
          "evalue": "Start state must be in states.",
          "traceback": [
            "\u001b[0;31m---------------------------------------------------------------------------\u001b[0m",
            "\u001b[0;31mValueError\u001b[0m                                Traceback (most recent call last)",
            "\u001b[0;32m/tmp/ipython-input-8-1313337918.py\u001b[0m in \u001b[0;36m<cell line: 0>\u001b[0;34m()\u001b[0m\n\u001b[0;32m----> 1\u001b[0;31m adams = DFA(\n\u001b[0m\u001b[1;32m      2\u001b[0m     \u001b[0mstates\u001b[0m\u001b[0;34m=\u001b[0m\u001b[0;34m{\u001b[0m\u001b[0;34m'1'\u001b[0m\u001b[0;34m,\u001b[0m \u001b[0;34m'2'\u001b[0m\u001b[0;34m,\u001b[0m \u001b[0;34m'3'\u001b[0m\u001b[0;34m,\u001b[0m \u001b[0;34m'4'\u001b[0m\u001b[0;34m}\u001b[0m\u001b[0;34m,\u001b[0m\u001b[0;34m\u001b[0m\u001b[0;34m\u001b[0m\u001b[0m\n\u001b[1;32m      3\u001b[0m     \u001b[0malphabet\u001b[0m\u001b[0;34m=\u001b[0m\u001b[0;34m{\u001b[0m\u001b[0;34m'H'\u001b[0m\u001b[0;34m,\u001b[0m \u001b[0;34m'T'\u001b[0m\u001b[0;34m}\u001b[0m\u001b[0;34m,\u001b[0m\u001b[0;34m\u001b[0m\u001b[0;34m\u001b[0m\u001b[0m\n\u001b[1;32m      4\u001b[0m     transition_function={\n\u001b[1;32m      5\u001b[0m         \u001b[0;34m(\u001b[0m\u001b[0;34m'1'\u001b[0m\u001b[0;34m,\u001b[0m \u001b[0;34m'H'\u001b[0m\u001b[0;34m)\u001b[0m\u001b[0;34m:\u001b[0m \u001b[0;34m'2'\u001b[0m\u001b[0;34m,\u001b[0m\u001b[0;34m\u001b[0m\u001b[0;34m\u001b[0m\u001b[0m\n",
            "\u001b[0;32m/tmp/ipython-input-5-1077275482.py\u001b[0m in \u001b[0;36m__init__\u001b[0;34m(self, states, alphabet, transition_function, start_state, accept_states)\u001b[0m\n\u001b[1;32m      7\u001b[0m         \u001b[0mself\u001b[0m\u001b[0;34m.\u001b[0m\u001b[0maccept_states\u001b[0m \u001b[0;34m=\u001b[0m \u001b[0mset\u001b[0m\u001b[0;34m(\u001b[0m\u001b[0maccept_states\u001b[0m\u001b[0;34m)\u001b[0m\u001b[0;34m\u001b[0m\u001b[0;34m\u001b[0m\u001b[0m\n\u001b[1;32m      8\u001b[0m \u001b[0;34m\u001b[0m\u001b[0m\n\u001b[0;32m----> 9\u001b[0;31m         \u001b[0mself\u001b[0m\u001b[0;34m.\u001b[0m\u001b[0mvalidate\u001b[0m\u001b[0;34m(\u001b[0m\u001b[0;34m)\u001b[0m\u001b[0;34m\u001b[0m\u001b[0;34m\u001b[0m\u001b[0m\n\u001b[0m",
            "\u001b[0;32m/tmp/ipython-input-6-2841934063.py\u001b[0m in \u001b[0;36mvalidate\u001b[0;34m(self)\u001b[0m\n\u001b[1;32m      1\u001b[0m \u001b[0;32mdef\u001b[0m \u001b[0mvalidate\u001b[0m\u001b[0;34m(\u001b[0m\u001b[0mself\u001b[0m\u001b[0;34m)\u001b[0m\u001b[0;34m:\u001b[0m\u001b[0;34m\u001b[0m\u001b[0;34m\u001b[0m\u001b[0m\n\u001b[1;32m      2\u001b[0m   \u001b[0;32mif\u001b[0m \u001b[0mself\u001b[0m\u001b[0;34m.\u001b[0m\u001b[0mstart_state\u001b[0m \u001b[0;32mnot\u001b[0m \u001b[0;32min\u001b[0m \u001b[0mself\u001b[0m\u001b[0;34m.\u001b[0m\u001b[0mstates\u001b[0m\u001b[0;34m:\u001b[0m\u001b[0;34m\u001b[0m\u001b[0;34m\u001b[0m\u001b[0m\n\u001b[0;32m----> 3\u001b[0;31m     \u001b[0;32mraise\u001b[0m \u001b[0mValueError\u001b[0m\u001b[0;34m(\u001b[0m\u001b[0;34m\"Start state must be in states.\"\u001b[0m\u001b[0;34m)\u001b[0m\u001b[0;34m\u001b[0m\u001b[0;34m\u001b[0m\u001b[0m\n\u001b[0m\u001b[1;32m      4\u001b[0m   \u001b[0;32mif\u001b[0m \u001b[0;32mnot\u001b[0m \u001b[0mself\u001b[0m\u001b[0;34m.\u001b[0m\u001b[0maccept_states\u001b[0m\u001b[0;34m.\u001b[0m\u001b[0missubset\u001b[0m\u001b[0;34m(\u001b[0m\u001b[0mself\u001b[0m\u001b[0;34m.\u001b[0m\u001b[0mstates\u001b[0m\u001b[0;34m)\u001b[0m\u001b[0;34m:\u001b[0m\u001b[0;34m\u001b[0m\u001b[0;34m\u001b[0m\u001b[0m\n\u001b[1;32m      5\u001b[0m     \u001b[0;32mraise\u001b[0m \u001b[0mValueError\u001b[0m\u001b[0;34m(\u001b[0m\u001b[0;34m\"Accept states must be a subset of states.\"\u001b[0m\u001b[0;34m)\u001b[0m\u001b[0;34m\u001b[0m\u001b[0;34m\u001b[0m\u001b[0m\n",
            "\u001b[0;31mValueError\u001b[0m: Start state must be in states."
          ]
        }
      ]
    },
    {
      "cell_type": "markdown",
      "source": [
        "Let's also create a method that builds and returns the Digraph for the state diagram of the DFA. We'll use the second convention above, with the initial state represented with an incoming arrow without a source node, and the finial states represented by double circles."
      ],
      "metadata": {
        "id": "V6Tf4YeWkIZN"
      }
    },
    {
      "cell_type": "code",
      "source": [
        "def build_graph(self):\n",
        "  dot = Digraph()\n",
        "  dot.attr(rankdir='LR')\n",
        "  dot.node('', shape='none')\n",
        "  dot.edge('', self.start_state)\n",
        "\n",
        "  for state in self.states:\n",
        "    shape = 'doublecircle' if state in self.accept_states else 'circle'\n",
        "    dot.node(state, shape=shape)\n",
        "\n",
        "  for (src, symbol), dst in self.transition_function.items():\n",
        "    dot.edge(src, dst, label=symbol)\n",
        "\n",
        "  return dot\n",
        "\n",
        "DFA.build_graph = build_graph"
      ],
      "metadata": {
        "id": "aydyy1lAk2FM"
      },
      "execution_count": 9,
      "outputs": []
    },
    {
      "cell_type": "markdown",
      "source": [
        "We'll also add a method for building and then displaying the state diagram."
      ],
      "metadata": {
        "id": "zQwjKYKKlWVu"
      }
    },
    {
      "cell_type": "code",
      "source": [
        "def show(self):\n",
        "  dot = self.build_graph()\n",
        "  display(Source(dot.source))\n",
        "\n",
        "DFA.show = show"
      ],
      "metadata": {
        "id": "KrfX3vAulnsG"
      },
      "execution_count": 10,
      "outputs": []
    },
    {
      "cell_type": "markdown",
      "source": [
        "Let's use these methods to display the state diagram for the Chutes and Ladders DFA."
      ],
      "metadata": {
        "id": "sWQ_CzHrl0_E"
      }
    },
    {
      "cell_type": "code",
      "source": [
        "cal.show()"
      ],
      "metadata": {
        "id": "Rc1zF5B_mFKX",
        "outputId": "89026eef-5d58-424c-ce44-58549e42979e",
        "colab": {
          "base_uri": "https://localhost:8080/",
          "height": 209
        }
      },
      "execution_count": 11,
      "outputs": [
        {
          "output_type": "display_data",
          "data": {
            "image/svg+xml": "<?xml version=\"1.0\" encoding=\"UTF-8\" standalone=\"no\"?>\n<!DOCTYPE svg PUBLIC \"-//W3C//DTD SVG 1.1//EN\"\n \"http://www.w3.org/Graphics/SVG/1.1/DTD/svg11.dtd\">\n<!-- Generated by graphviz version 2.43.0 (0)\n -->\n<!-- Title: %3 Pages: 1 -->\n<svg width=\"388pt\" height=\"141pt\"\n viewBox=\"0.00 0.00 388.00 141.00\" xmlns=\"http://www.w3.org/2000/svg\" xmlns:xlink=\"http://www.w3.org/1999/xlink\">\n<g id=\"graph0\" class=\"graph\" transform=\"scale(1 1) rotate(0) translate(4 137)\">\n<title>%3</title>\n<polygon fill=\"white\" stroke=\"transparent\" points=\"-4,4 -4,-137 384,-137 384,4 -4,4\"/>\n<g id=\"node1\" class=\"node\">\n<title></title>\n</g>\n<!-- 1 -->\n<g id=\"node2\" class=\"node\">\n<title>1</title>\n<ellipse fill=\"none\" stroke=\"black\" cx=\"109\" cy=\"-42\" rx=\"18\" ry=\"18\"/>\n<text text-anchor=\"middle\" x=\"109\" y=\"-38.3\" font-family=\"Times,serif\" font-size=\"14.00\">1</text>\n</g>\n<!-- &#45;&gt;1 -->\n<g id=\"edge1\" class=\"edge\">\n<title>&#45;&gt;1</title>\n<path fill=\"none\" stroke=\"black\" d=\"M54.19,-42C62.65,-42 72.05,-42 80.6,-42\"/>\n<polygon fill=\"black\" stroke=\"black\" points=\"80.83,-45.5 90.83,-42 80.83,-38.5 80.83,-45.5\"/>\n</g>\n<!-- 2 -->\n<g id=\"node5\" class=\"node\">\n<title>2</title>\n<ellipse fill=\"none\" stroke=\"black\" cx=\"191\" cy=\"-66\" rx=\"18\" ry=\"18\"/>\n<text text-anchor=\"middle\" x=\"191\" y=\"-62.3\" font-family=\"Times,serif\" font-size=\"14.00\">2</text>\n</g>\n<!-- 1&#45;&gt;2 -->\n<g id=\"edge2\" class=\"edge\">\n<title>1&#45;&gt;2</title>\n<path fill=\"none\" stroke=\"black\" d=\"M125.35,-50.04C131.35,-52.9 138.37,-55.93 145,-58 150.68,-59.77 156.9,-61.19 162.84,-62.32\"/>\n<polygon fill=\"black\" stroke=\"black\" points=\"162.65,-65.83 173.09,-64.03 163.8,-58.93 162.65,-65.83\"/>\n<text text-anchor=\"middle\" x=\"150\" y=\"-63.8\" font-family=\"Times,serif\" font-size=\"14.00\">H</text>\n</g>\n<!-- 1&#45;&gt;2 -->\n<g id=\"edge3\" class=\"edge\">\n<title>1&#45;&gt;2</title>\n<path fill=\"none\" stroke=\"black\" d=\"M126.65,-37.86C135.31,-36.45 145.96,-35.92 155,-39 160.22,-40.78 165.27,-43.69 169.84,-46.96\"/>\n<polygon fill=\"black\" stroke=\"black\" points=\"167.94,-49.92 177.93,-53.47 172.33,-44.47 167.94,-49.92\"/>\n<text text-anchor=\"middle\" x=\"150\" y=\"-42.8\" font-family=\"Times,serif\" font-size=\"14.00\">T</text>\n</g>\n<!-- 4 -->\n<g id=\"node3\" class=\"node\">\n<title>4</title>\n<ellipse fill=\"none\" stroke=\"black\" cx=\"358\" cy=\"-45\" rx=\"18\" ry=\"18\"/>\n<ellipse fill=\"none\" stroke=\"black\" cx=\"358\" cy=\"-45\" rx=\"22\" ry=\"22\"/>\n<text text-anchor=\"middle\" x=\"358\" y=\"-41.3\" font-family=\"Times,serif\" font-size=\"14.00\">4</text>\n</g>\n<!-- 4&#45;&gt;4 -->\n<g id=\"edge8\" class=\"edge\">\n<title>4&#45;&gt;4</title>\n<path fill=\"none\" stroke=\"black\" d=\"M353.94,-66.81C353.55,-76.56 354.91,-85 358,-85 359.93,-85 361.19,-81.7 361.76,-76.85\"/>\n<polygon fill=\"black\" stroke=\"black\" points=\"365.26,-76.91 362.06,-66.81 358.26,-76.7 365.26,-76.91\"/>\n<text text-anchor=\"middle\" x=\"358\" y=\"-88.8\" font-family=\"Times,serif\" font-size=\"14.00\">H</text>\n</g>\n<!-- 4&#45;&gt;4 -->\n<g id=\"edge9\" class=\"edge\">\n<title>4&#45;&gt;4</title>\n<path fill=\"none\" stroke=\"black\" d=\"M351.06,-66.11C348,-84.1 350.31,-103 358,-103 364.25,-103 366.95,-90.52 366.1,-76.2\"/>\n<polygon fill=\"black\" stroke=\"black\" points=\"369.56,-75.65 364.94,-66.11 362.6,-76.45 369.56,-75.65\"/>\n<text text-anchor=\"middle\" x=\"358\" y=\"-106.8\" font-family=\"Times,serif\" font-size=\"14.00\">T</text>\n</g>\n<!-- 3 -->\n<g id=\"node4\" class=\"node\">\n<title>3</title>\n<ellipse fill=\"none\" stroke=\"black\" cx=\"273\" cy=\"-18\" rx=\"18\" ry=\"18\"/>\n<text text-anchor=\"middle\" x=\"273\" y=\"-14.3\" font-family=\"Times,serif\" font-size=\"14.00\">3</text>\n</g>\n<!-- 3&#45;&gt;1 -->\n<g id=\"edge6\" class=\"edge\">\n<title>3&#45;&gt;1</title>\n<path fill=\"none\" stroke=\"black\" d=\"M254.7,-17.91C234.84,-18.08 201.34,-19.15 173,-24 160.55,-26.13 147.05,-29.8 135.76,-33.27\"/>\n<polygon fill=\"black\" stroke=\"black\" points=\"134.56,-29.98 126.09,-36.35 136.68,-36.65 134.56,-29.98\"/>\n<text text-anchor=\"middle\" x=\"191\" y=\"-27.8\" font-family=\"Times,serif\" font-size=\"14.00\">H</text>\n</g>\n<!-- 3&#45;&gt;4 -->\n<g id=\"edge7\" class=\"edge\">\n<title>3&#45;&gt;4</title>\n<path fill=\"none\" stroke=\"black\" d=\"M290.4,-23.33C300.91,-26.75 314.87,-31.29 327.28,-35.33\"/>\n<polygon fill=\"black\" stroke=\"black\" points=\"326.23,-38.67 336.82,-38.44 328.39,-32.01 326.23,-38.67\"/>\n<text text-anchor=\"middle\" x=\"313.5\" y=\"-35.8\" font-family=\"Times,serif\" font-size=\"14.00\">T</text>\n</g>\n<!-- 2&#45;&gt;4 -->\n<g id=\"edge5\" class=\"edge\">\n<title>2&#45;&gt;4</title>\n<path fill=\"none\" stroke=\"black\" d=\"M209.14,-64.15C233.41,-61.48 279.15,-56.3 318,-51 320.55,-50.65 323.2,-50.28 325.85,-49.89\"/>\n<polygon fill=\"black\" stroke=\"black\" points=\"326.6,-53.32 335.97,-48.37 325.56,-46.39 326.6,-53.32\"/>\n<text text-anchor=\"middle\" x=\"273\" y=\"-61.8\" font-family=\"Times,serif\" font-size=\"14.00\">T</text>\n</g>\n<!-- 2&#45;&gt;3 -->\n<g id=\"edge4\" class=\"edge\">\n<title>2&#45;&gt;3</title>\n<path fill=\"none\" stroke=\"black\" d=\"M206.49,-56.13C212.73,-51.97 220.16,-47.14 227,-43 233.73,-38.93 241.15,-34.7 247.99,-30.91\"/>\n<polygon fill=\"black\" stroke=\"black\" points=\"249.75,-33.93 256.84,-26.06 246.39,-27.79 249.75,-33.93\"/>\n<text text-anchor=\"middle\" x=\"232\" y=\"-46.8\" font-family=\"Times,serif\" font-size=\"14.00\">H</text>\n</g>\n</g>\n</svg>\n",
            "text/plain": [
              "<graphviz.sources.Source at 0x79c3ddc861d0>"
            ]
          },
          "metadata": {}
        }
      ]
    },
    {
      "cell_type": "markdown",
      "source": [
        "Note we don't have a single arrow from *1* to *2* with $H,T$ above it, and have instead explicitly separated the $H$ and $T$ transitions. This will be the convention for diagrams created from our DFA class."
      ],
      "metadata": {
        "id": "svdAX6NImbm0"
      }
    },
    {
      "cell_type": "markdown",
      "source": [
        "## 1.3.4 DFAs and Languages"
      ],
      "metadata": {
        "id": "Lr7-CBc7Rane"
      }
    },
    {
      "cell_type": "markdown",
      "source": [
        "For the simple game in Section 1.3.2 we could ask, for a given sequence of flips, whether the player wins the game - meaning whether at the end of the sequence the player is on an accepting state. For the sequence $HHHT$ the answer would be *no*. For the sequence $THT$, the answer would be *yes*. We can view the set of winning sequences of flips as a *language*, and we say the game - or DFA - above *accepts* this language."
      ],
      "metadata": {
        "id": "Y7kL0c_RSF3T"
      }
    },
    {
      "cell_type": "markdown",
      "source": [
        "For any finite automaton with input alphabet $\\Sigma$, we can view a sequence of characters from $\\Sigma$ as corresponding with a sequence of transitions in the DFA. The DFA begins at its start state, reads the first character in the string, transitions to one of its states according to the character and its transition function, and then repeats. This process continues until the DFA has read every character in the string. If at this point the DFA is in an accepting state, the string is accepted. If not, the string is rejected. We say a string that is accepted by a DFA is *recognized* by that DFA.\n",
        "\n",
        "---\n",
        "\n",
        "**Definition**\n",
        "\n",
        "For a deterministic finite automaton (DFA) with an input alphabet $\\Sigma$, the set of strings over $\\Sigma$ that are recognized by that DFA is the language defined by that DFA.\n",
        "\n",
        "---"
      ],
      "metadata": {
        "id": "Hm3_3orYnkIG"
      }
    },
    {
      "cell_type": "markdown",
      "source": [
        "**Example 1** - Build a DFA with input alphabet $\\Sigma = \\{0,1\\}$ that accepts any bitstring (a string of $0$s and $1$s) that ends in a $1$."
      ],
      "metadata": {
        "id": "pVpuWFoTpu_Q"
      }
    },
    {
      "cell_type": "markdown",
      "source": [
        "**Example 1 Solution** - The DFA defined below accepts the specified language."
      ],
      "metadata": {
        "id": "BI-c-5CDp_Sg"
      }
    },
    {
      "cell_type": "code",
      "source": [
        "lastone = DFA(\n",
        "    states={'q0', 'q1'},\n",
        "    alphabet={'0', '1'},\n",
        "    transition_function={\n",
        "        ('q0', '0'): 'q0',\n",
        "        ('q0', '1'): 'q1',\n",
        "        ('q1', '0'): 'q0',\n",
        "        ('q1', '1'): 'q1',\n",
        "    },\n",
        "    start_state='q0',\n",
        "    accept_states={'q1'}\n",
        ")\n",
        "\n",
        "lastone.show()"
      ],
      "metadata": {
        "id": "u-XeDH_5plRy",
        "outputId": "eb4de668-0937-4945-9e26-e51205d0d323",
        "colab": {
          "base_uri": "https://localhost:8080/",
          "height": 138
        }
      },
      "execution_count": 13,
      "outputs": [
        {
          "output_type": "display_data",
          "data": {
            "image/svg+xml": "<?xml version=\"1.0\" encoding=\"UTF-8\" standalone=\"no\"?>\n<!DOCTYPE svg PUBLIC \"-//W3C//DTD SVG 1.1//EN\"\n \"http://www.w3.org/Graphics/SVG/1.1/DTD/svg11.dtd\">\n<!-- Generated by graphviz version 2.43.0 (0)\n -->\n<!-- Title: %3 Pages: 1 -->\n<svg width=\"228pt\" height=\"88pt\"\n viewBox=\"0.00 0.00 227.99 88.00\" xmlns=\"http://www.w3.org/2000/svg\" xmlns:xlink=\"http://www.w3.org/1999/xlink\">\n<g id=\"graph0\" class=\"graph\" transform=\"scale(1 1) rotate(0) translate(4 84)\">\n<title>%3</title>\n<polygon fill=\"white\" stroke=\"transparent\" points=\"-4,4 -4,-84 223.99,-84 223.99,4 -4,4\"/>\n<g id=\"node1\" class=\"node\">\n<title></title>\n</g>\n<!-- q0 -->\n<g id=\"node2\" class=\"node\">\n<title>q0</title>\n<ellipse fill=\"none\" stroke=\"black\" cx=\"110.5\" cy=\"-23.5\" rx=\"19.5\" ry=\"19.5\"/>\n<text text-anchor=\"middle\" x=\"110.5\" y=\"-19.8\" font-family=\"Times,serif\" font-size=\"14.00\">q0</text>\n</g>\n<!-- &#45;&gt;q0 -->\n<g id=\"edge1\" class=\"edge\">\n<title>&#45;&gt;q0</title>\n<path fill=\"none\" stroke=\"black\" d=\"M54.24,-23.5C62.7,-23.5 72.14,-23.5 80.77,-23.5\"/>\n<polygon fill=\"black\" stroke=\"black\" points=\"80.8,-27 90.8,-23.5 80.8,-20 80.8,-27\"/>\n</g>\n<!-- q0&#45;&gt;q0 -->\n<g id=\"edge2\" class=\"edge\">\n<title>q0&#45;&gt;q0</title>\n<path fill=\"none\" stroke=\"black\" d=\"M104.03,-42.02C102.93,-51.95 105.08,-61 110.5,-61 113.88,-61 115.99,-57.46 116.83,-52.39\"/>\n<polygon fill=\"black\" stroke=\"black\" points=\"120.34,-52.07 116.97,-42.02 113.34,-51.97 120.34,-52.07\"/>\n<text text-anchor=\"middle\" x=\"110.5\" y=\"-64.8\" font-family=\"Times,serif\" font-size=\"14.00\">0</text>\n</g>\n<!-- q1 -->\n<g id=\"node3\" class=\"node\">\n<title>q1</title>\n<ellipse fill=\"none\" stroke=\"black\" cx=\"196.49\" cy=\"-23.5\" rx=\"19.5\" ry=\"19.5\"/>\n<ellipse fill=\"none\" stroke=\"black\" cx=\"196.49\" cy=\"-23.5\" rx=\"23.5\" ry=\"23.5\"/>\n<text text-anchor=\"middle\" x=\"196.49\" y=\"-19.8\" font-family=\"Times,serif\" font-size=\"14.00\">q1</text>\n</g>\n<!-- q0&#45;&gt;q1 -->\n<g id=\"edge3\" class=\"edge\">\n<title>q0&#45;&gt;q1</title>\n<path fill=\"none\" stroke=\"black\" d=\"M130.14,-23.5C139.66,-23.5 151.53,-23.5 162.54,-23.5\"/>\n<polygon fill=\"black\" stroke=\"black\" points=\"162.72,-27 172.72,-23.5 162.72,-20 162.72,-27\"/>\n<text text-anchor=\"middle\" x=\"151.5\" y=\"-27.3\" font-family=\"Times,serif\" font-size=\"14.00\">1</text>\n</g>\n<!-- q1&#45;&gt;q0 -->\n<g id=\"edge4\" class=\"edge\">\n<title>q1&#45;&gt;q0</title>\n<path fill=\"none\" stroke=\"black\" d=\"M176.94,-10.22C168.33,-5.6 157.83,-2.09 148,-4.5 144.05,-5.46 140.06,-6.94 136.23,-8.65\"/>\n<polygon fill=\"black\" stroke=\"black\" points=\"134.53,-5.59 127.19,-13.23 137.69,-11.83 134.53,-5.59\"/>\n<text text-anchor=\"middle\" x=\"151.5\" y=\"-8.3\" font-family=\"Times,serif\" font-size=\"14.00\">0</text>\n</g>\n<!-- q1&#45;&gt;q1 -->\n<g id=\"edge5\" class=\"edge\">\n<title>q1&#45;&gt;q1</title>\n<path fill=\"none\" stroke=\"black\" d=\"M188.41,-45.7C187.53,-56 190.22,-65 196.49,-65 200.51,-65 203.06,-61.3 204.15,-55.94\"/>\n<polygon fill=\"black\" stroke=\"black\" points=\"207.65,-55.84 204.58,-45.7 200.66,-55.54 207.65,-55.84\"/>\n<text text-anchor=\"middle\" x=\"196.49\" y=\"-68.8\" font-family=\"Times,serif\" font-size=\"14.00\">1</text>\n</g>\n</g>\n</svg>\n",
            "text/plain": [
              "<graphviz.sources.Source at 0x79c3ddc96b50>"
            ]
          },
          "metadata": {}
        }
      ]
    },
    {
      "cell_type": "markdown",
      "source": [
        "**Example 2**: Build a DFA that accepts only those words that begin or end with a double letter."
      ],
      "metadata": {
        "id": "pcwukgJ1SftC"
      }
    },
    {
      "cell_type": "markdown",
      "source": [
        "**Example 2 Solution** -"
      ],
      "metadata": {
        "id": "aIfZXt44TLYt"
      }
    },
    {
      "cell_type": "code",
      "source": [
        "doubleletter = DFA(\n",
        "    states={'q0', 'q1', 'q2', 'q3', 'q4', 'q5', 'q6', 'q7', 'q8'},\n",
        "    alphabet={'a', 'b'},\n",
        "    transition_function={\n",
        "        ('q0', 'a'): 'q3',\n",
        "        ('q0', 'b'): 'q1',\n",
        "        ('q1', 'a'): 'q5',\n",
        "        ('q1', 'b'): 'q2',\n",
        "        ('q2', 'a'): 'q2',\n",
        "        ('q2', 'b'): 'q2',\n",
        "        ('q3', 'a'): 'q4',\n",
        "        ('q3', 'b'): 'q6',\n",
        "        ('q4', 'a'): 'q4',\n",
        "        ('q4', 'b'): 'q4',\n",
        "        ('q5', 'a'): 'q7',\n",
        "        ('q5', 'b'): 'q6',\n",
        "        ('q6', 'a'): 'q5',\n",
        "        ('q6', 'b'): 'q8',\n",
        "        ('q7', 'a'): 'q7',\n",
        "        ('q7', 'b'): 'q6',\n",
        "        ('q8', 'a'): 'q5',\n",
        "        ('q8', 'b'): 'q8',\n",
        "    },\n",
        "    start_state='q0',\n",
        "    accept_states={'q2', 'q4', 'q7', 'q8'}\n",
        ")\n",
        "\n",
        "doubleletter.show()"
      ],
      "metadata": {
        "id": "lXSURc4JqtAP",
        "outputId": "a5c47d19-7a8d-4750-aace-83d054d1d622",
        "colab": {
          "base_uri": "https://localhost:8080/",
          "height": 610
        }
      },
      "execution_count": 14,
      "outputs": [
        {
          "output_type": "display_data",
          "data": {
            "image/svg+xml": "<?xml version=\"1.0\" encoding=\"UTF-8\" standalone=\"no\"?>\n<!DOCTYPE svg PUBLIC \"-//W3C//DTD SVG 1.1//EN\"\n \"http://www.w3.org/Graphics/SVG/1.1/DTD/svg11.dtd\">\n<!-- Generated by graphviz version 2.43.0 (0)\n -->\n<!-- Title: %3 Pages: 1 -->\n<svg width=\"572pt\" height=\"442pt\"\n viewBox=\"0.00 0.00 571.98 442.00\" xmlns=\"http://www.w3.org/2000/svg\" xmlns:xlink=\"http://www.w3.org/1999/xlink\">\n<g id=\"graph0\" class=\"graph\" transform=\"scale(1 1) rotate(0) translate(4 438)\">\n<title>%3</title>\n<polygon fill=\"white\" stroke=\"transparent\" points=\"-4,4 -4,-438 567.98,-438 567.98,4 -4,4\"/>\n<g id=\"node1\" class=\"node\">\n<title></title>\n</g>\n<!-- q0 -->\n<g id=\"node2\" class=\"node\">\n<title>q0</title>\n<ellipse fill=\"none\" stroke=\"black\" cx=\"110.5\" cy=\"-211.5\" rx=\"19.5\" ry=\"19.5\"/>\n<text text-anchor=\"middle\" x=\"110.5\" y=\"-207.8\" font-family=\"Times,serif\" font-size=\"14.00\">q0</text>\n</g>\n<!-- &#45;&gt;q0 -->\n<g id=\"edge1\" class=\"edge\">\n<title>&#45;&gt;q0</title>\n<path fill=\"none\" stroke=\"black\" d=\"M54.24,-211.5C62.7,-211.5 72.14,-211.5 80.77,-211.5\"/>\n<polygon fill=\"black\" stroke=\"black\" points=\"80.8,-215 90.8,-211.5 80.8,-208 80.8,-215\"/>\n</g>\n<!-- q1 -->\n<g id=\"node3\" class=\"node\">\n<title>q1</title>\n<ellipse fill=\"none\" stroke=\"black\" cx=\"192.49\" cy=\"-283.5\" rx=\"19.5\" ry=\"19.5\"/>\n<text text-anchor=\"middle\" x=\"192.49\" y=\"-279.8\" font-family=\"Times,serif\" font-size=\"14.00\">q1</text>\n</g>\n<!-- q0&#45;&gt;q1 -->\n<g id=\"edge3\" class=\"edge\">\n<title>q0&#45;&gt;q1</title>\n<path fill=\"none\" stroke=\"black\" d=\"M125.43,-224.04C137.63,-235.02 155.56,-251.16 169.66,-263.85\"/>\n<polygon fill=\"black\" stroke=\"black\" points=\"167.68,-266.77 177.45,-270.86 172.36,-261.57 167.68,-266.77\"/>\n<text text-anchor=\"middle\" x=\"151.5\" y=\"-253.3\" font-family=\"Times,serif\" font-size=\"14.00\">b</text>\n</g>\n<!-- q3 -->\n<g id=\"node9\" class=\"node\">\n<title>q3</title>\n<ellipse fill=\"none\" stroke=\"black\" cx=\"192.49\" cy=\"-140.5\" rx=\"19.5\" ry=\"19.5\"/>\n<text text-anchor=\"middle\" x=\"192.49\" y=\"-136.8\" font-family=\"Times,serif\" font-size=\"14.00\">q3</text>\n</g>\n<!-- q0&#45;&gt;q3 -->\n<g id=\"edge2\" class=\"edge\">\n<title>q0&#45;&gt;q3</title>\n<path fill=\"none\" stroke=\"black\" d=\"M125.8,-198.8C137.97,-188 155.65,-172.31 169.6,-159.93\"/>\n<polygon fill=\"black\" stroke=\"black\" points=\"172.16,-162.34 177.32,-153.08 167.51,-157.1 172.16,-162.34\"/>\n<text text-anchor=\"middle\" x=\"151.5\" y=\"-181.3\" font-family=\"Times,serif\" font-size=\"14.00\">a</text>\n</g>\n<!-- q2 -->\n<g id=\"node4\" class=\"node\">\n<title>q2</title>\n<ellipse fill=\"none\" stroke=\"black\" cx=\"278.49\" cy=\"-344.5\" rx=\"19.5\" ry=\"19.5\"/>\n<ellipse fill=\"none\" stroke=\"black\" cx=\"278.49\" cy=\"-344.5\" rx=\"23.5\" ry=\"23.5\"/>\n<text text-anchor=\"middle\" x=\"278.49\" y=\"-340.8\" font-family=\"Times,serif\" font-size=\"14.00\">q2</text>\n</g>\n<!-- q1&#45;&gt;q2 -->\n<g id=\"edge5\" class=\"edge\">\n<title>q1&#45;&gt;q2</title>\n<path fill=\"none\" stroke=\"black\" d=\"M208.9,-294.69C220.59,-303.17 236.94,-315.05 250.75,-325.08\"/>\n<polygon fill=\"black\" stroke=\"black\" points=\"248.81,-327.99 258.96,-331.04 252.92,-322.33 248.81,-327.99\"/>\n<text text-anchor=\"middle\" x=\"233.49\" y=\"-317.3\" font-family=\"Times,serif\" font-size=\"14.00\">b</text>\n</g>\n<!-- q5 -->\n<g id=\"node10\" class=\"node\">\n<title>q5</title>\n<ellipse fill=\"none\" stroke=\"black\" cx=\"278.49\" cy=\"-283.5\" rx=\"19.5\" ry=\"19.5\"/>\n<text text-anchor=\"middle\" x=\"278.49\" y=\"-279.8\" font-family=\"Times,serif\" font-size=\"14.00\">q5</text>\n</g>\n<!-- q1&#45;&gt;q5 -->\n<g id=\"edge4\" class=\"edge\">\n<title>q1&#45;&gt;q5</title>\n<path fill=\"none\" stroke=\"black\" d=\"M212.14,-283.5C222.9,-283.5 236.67,-283.5 248.79,-283.5\"/>\n<polygon fill=\"black\" stroke=\"black\" points=\"248.9,-287 258.9,-283.5 248.9,-280 248.9,-287\"/>\n<text text-anchor=\"middle\" x=\"233.49\" y=\"-287.3\" font-family=\"Times,serif\" font-size=\"14.00\">a</text>\n</g>\n<!-- q2&#45;&gt;q2 -->\n<g id=\"edge6\" class=\"edge\">\n<title>q2&#45;&gt;q2</title>\n<path fill=\"none\" stroke=\"black\" d=\"M274.4,-367.96C274.12,-377.72 275.48,-386 278.49,-386 280.37,-386 281.61,-382.76 282.2,-377.96\"/>\n<polygon fill=\"black\" stroke=\"black\" points=\"285.7,-378.09 282.58,-367.96 278.71,-377.82 285.7,-378.09\"/>\n<text text-anchor=\"middle\" x=\"278.49\" y=\"-389.8\" font-family=\"Times,serif\" font-size=\"14.00\">a</text>\n</g>\n<!-- q2&#45;&gt;q2 -->\n<g id=\"edge7\" class=\"edge\">\n<title>q2&#45;&gt;q2</title>\n<path fill=\"none\" stroke=\"black\" d=\"M271.4,-367.09C268.57,-385.25 270.93,-404 278.49,-404 284.64,-404 287.35,-391.62 286.63,-377.24\"/>\n<polygon fill=\"black\" stroke=\"black\" points=\"290.09,-376.67 285.58,-367.09 283.13,-377.39 290.09,-376.67\"/>\n<text text-anchor=\"middle\" x=\"278.49\" y=\"-407.8\" font-family=\"Times,serif\" font-size=\"14.00\">b</text>\n</g>\n<!-- q7 -->\n<g id=\"node5\" class=\"node\">\n<title>q7</title>\n<ellipse fill=\"none\" stroke=\"black\" cx=\"368.49\" cy=\"-191.5\" rx=\"19.5\" ry=\"19.5\"/>\n<ellipse fill=\"none\" stroke=\"black\" cx=\"368.49\" cy=\"-191.5\" rx=\"23.5\" ry=\"23.5\"/>\n<text text-anchor=\"middle\" x=\"368.49\" y=\"-187.8\" font-family=\"Times,serif\" font-size=\"14.00\">q7</text>\n</g>\n<!-- q7&#45;&gt;q7 -->\n<g id=\"edge16\" class=\"edge\">\n<title>q7&#45;&gt;q7</title>\n<path fill=\"none\" stroke=\"black\" d=\"M360.4,-213.7C359.52,-224 362.21,-233 368.49,-233 372.51,-233 375.06,-229.3 376.14,-223.94\"/>\n<polygon fill=\"black\" stroke=\"black\" points=\"379.65,-223.84 376.57,-213.7 372.65,-223.54 379.65,-223.84\"/>\n<text text-anchor=\"middle\" x=\"368.49\" y=\"-236.8\" font-family=\"Times,serif\" font-size=\"14.00\">a</text>\n</g>\n<!-- q6 -->\n<g id=\"node7\" class=\"node\">\n<title>q6</title>\n<ellipse fill=\"none\" stroke=\"black\" cx=\"454.48\" cy=\"-283.5\" rx=\"19.5\" ry=\"19.5\"/>\n<text text-anchor=\"middle\" x=\"454.48\" y=\"-279.8\" font-family=\"Times,serif\" font-size=\"14.00\">q6</text>\n</g>\n<!-- q7&#45;&gt;q6 -->\n<g id=\"edge17\" class=\"edge\">\n<title>q7&#45;&gt;q6</title>\n<path fill=\"none\" stroke=\"black\" d=\"M384.89,-208.37C398.65,-223.44 418.87,-245.59 433.8,-261.94\"/>\n<polygon fill=\"black\" stroke=\"black\" points=\"431.32,-264.42 440.65,-269.44 436.49,-259.7 431.32,-264.42\"/>\n<text text-anchor=\"middle\" x=\"413.49\" y=\"-246.3\" font-family=\"Times,serif\" font-size=\"14.00\">b</text>\n</g>\n<!-- q8 -->\n<g id=\"node6\" class=\"node\">\n<title>q8</title>\n<ellipse fill=\"none\" stroke=\"black\" cx=\"540.48\" cy=\"-330.5\" rx=\"19.5\" ry=\"19.5\"/>\n<ellipse fill=\"none\" stroke=\"black\" cx=\"540.48\" cy=\"-330.5\" rx=\"23.5\" ry=\"23.5\"/>\n<text text-anchor=\"middle\" x=\"540.48\" y=\"-326.8\" font-family=\"Times,serif\" font-size=\"14.00\">q8</text>\n</g>\n<!-- q8&#45;&gt;q8 -->\n<g id=\"edge19\" class=\"edge\">\n<title>q8&#45;&gt;q8</title>\n<path fill=\"none\" stroke=\"black\" d=\"M532.39,-352.7C531.51,-363 534.21,-372 540.48,-372 544.5,-372 547.05,-368.3 548.13,-362.94\"/>\n<polygon fill=\"black\" stroke=\"black\" points=\"551.64,-362.84 548.57,-352.7 544.65,-362.54 551.64,-362.84\"/>\n<text text-anchor=\"middle\" x=\"540.48\" y=\"-375.8\" font-family=\"Times,serif\" font-size=\"14.00\">b</text>\n</g>\n<!-- q8&#45;&gt;q5 -->\n<g id=\"edge18\" class=\"edge\">\n<title>q8&#45;&gt;q5</title>\n<path fill=\"none\" stroke=\"black\" d=\"M516.9,-332.63C480.22,-335.45 405.68,-338.46 344.99,-323.5 329.37,-319.65 313.92,-310.54 301.95,-301.98\"/>\n<polygon fill=\"black\" stroke=\"black\" points=\"304,-299.14 293.9,-295.93 299.79,-304.74 304,-299.14\"/>\n<text text-anchor=\"middle\" x=\"413.49\" y=\"-337.3\" font-family=\"Times,serif\" font-size=\"14.00\">a</text>\n</g>\n<!-- q6&#45;&gt;q8 -->\n<g id=\"edge15\" class=\"edge\">\n<title>q6&#45;&gt;q8</title>\n<path fill=\"none\" stroke=\"black\" d=\"M472.08,-292.78C483.08,-298.94 497.81,-307.18 510.7,-314.39\"/>\n<polygon fill=\"black\" stroke=\"black\" points=\"509.23,-317.58 519.67,-319.41 512.65,-311.48 509.23,-317.58\"/>\n<text text-anchor=\"middle\" x=\"495.48\" y=\"-310.3\" font-family=\"Times,serif\" font-size=\"14.00\">b</text>\n</g>\n<!-- q6&#45;&gt;q5 -->\n<g id=\"edge14\" class=\"edge\">\n<title>q6&#45;&gt;q5</title>\n<path fill=\"none\" stroke=\"black\" d=\"M434.74,-283.5C404.38,-283.5 344.27,-283.5 308.4,-283.5\"/>\n<polygon fill=\"black\" stroke=\"black\" points=\"308.11,-280 298.11,-283.5 308.11,-287 308.11,-280\"/>\n<text text-anchor=\"middle\" x=\"368.49\" y=\"-287.3\" font-family=\"Times,serif\" font-size=\"14.00\">a</text>\n</g>\n<!-- q4 -->\n<g id=\"node8\" class=\"node\">\n<title>q4</title>\n<ellipse fill=\"none\" stroke=\"black\" cx=\"278.49\" cy=\"-23.5\" rx=\"19.5\" ry=\"19.5\"/>\n<ellipse fill=\"none\" stroke=\"black\" cx=\"278.49\" cy=\"-23.5\" rx=\"23.5\" ry=\"23.5\"/>\n<text text-anchor=\"middle\" x=\"278.49\" y=\"-19.8\" font-family=\"Times,serif\" font-size=\"14.00\">q4</text>\n</g>\n<!-- q4&#45;&gt;q4 -->\n<g id=\"edge10\" class=\"edge\">\n<title>q4&#45;&gt;q4</title>\n<path fill=\"none\" stroke=\"black\" d=\"M274.4,-46.96C274.12,-56.72 275.48,-65 278.49,-65 280.37,-65 281.61,-61.76 282.2,-56.96\"/>\n<polygon fill=\"black\" stroke=\"black\" points=\"285.7,-57.09 282.58,-46.96 278.71,-56.82 285.7,-57.09\"/>\n<text text-anchor=\"middle\" x=\"278.49\" y=\"-68.8\" font-family=\"Times,serif\" font-size=\"14.00\">a</text>\n</g>\n<!-- q4&#45;&gt;q4 -->\n<g id=\"edge11\" class=\"edge\">\n<title>q4&#45;&gt;q4</title>\n<path fill=\"none\" stroke=\"black\" d=\"M271.4,-46.09C268.57,-64.25 270.93,-83 278.49,-83 284.64,-83 287.35,-70.62 286.63,-56.24\"/>\n<polygon fill=\"black\" stroke=\"black\" points=\"290.09,-55.67 285.58,-46.09 283.13,-56.39 290.09,-55.67\"/>\n<text text-anchor=\"middle\" x=\"278.49\" y=\"-86.8\" font-family=\"Times,serif\" font-size=\"14.00\">b</text>\n</g>\n<!-- q3&#45;&gt;q6 -->\n<g id=\"edge9\" class=\"edge\">\n<title>q3&#45;&gt;q6</title>\n<path fill=\"none\" stroke=\"black\" d=\"M211.88,-136.8C249.44,-130.33 336.1,-121.02 391.99,-159.5 423.89,-181.46 440,-224.93 447.56,-254.12\"/>\n<polygon fill=\"black\" stroke=\"black\" points=\"444.23,-255.25 449.97,-264.16 451.04,-253.62 444.23,-255.25\"/>\n<text text-anchor=\"middle\" x=\"323.49\" y=\"-138.3\" font-family=\"Times,serif\" font-size=\"14.00\">b</text>\n</g>\n<!-- q3&#45;&gt;q4 -->\n<g id=\"edge8\" class=\"edge\">\n<title>q3&#45;&gt;q4</title>\n<path fill=\"none\" stroke=\"black\" d=\"M204.82,-124.72C218.48,-105.69 241.66,-73.41 258.16,-50.42\"/>\n<polygon fill=\"black\" stroke=\"black\" points=\"261.14,-52.27 264.13,-42.11 255.45,-48.19 261.14,-52.27\"/>\n<text text-anchor=\"middle\" x=\"233.49\" y=\"-93.3\" font-family=\"Times,serif\" font-size=\"14.00\">a</text>\n</g>\n<!-- q5&#45;&gt;q7 -->\n<g id=\"edge12\" class=\"edge\">\n<title>q5&#45;&gt;q7</title>\n<path fill=\"none\" stroke=\"black\" d=\"M292.86,-269.53C306.53,-255.23 328.05,-232.73 344.47,-215.56\"/>\n<polygon fill=\"black\" stroke=\"black\" points=\"347.23,-217.74 351.61,-208.1 342.17,-212.91 347.23,-217.74\"/>\n<text text-anchor=\"middle\" x=\"323.49\" y=\"-243.3\" font-family=\"Times,serif\" font-size=\"14.00\">a</text>\n</g>\n<!-- q5&#45;&gt;q6 -->\n<g id=\"edge13\" class=\"edge\">\n<title>q5&#45;&gt;q6</title>\n<path fill=\"none\" stroke=\"black\" d=\"M297.07,-290.16C304.13,-292.68 312.38,-295.43 319.99,-297.5 350.94,-305.9 360.07,-305.66 391.99,-302.5 403.26,-301.38 406.1,-300.65 416.99,-297.5 420.18,-296.57 423.49,-295.49 426.75,-294.34\"/>\n<polygon fill=\"black\" stroke=\"black\" points=\"428.09,-297.58 436.24,-290.8 425.65,-291.02 428.09,-297.58\"/>\n<text text-anchor=\"middle\" x=\"368.49\" y=\"-308.3\" font-family=\"Times,serif\" font-size=\"14.00\">b</text>\n</g>\n</g>\n</svg>\n",
            "text/plain": [
              "<graphviz.sources.Source at 0x79c3f97bf290>"
            ]
          },
          "metadata": {}
        }
      ]
    },
    {
      "cell_type": "markdown",
      "source": [
        "## 1.3.5 Using DFAs In Python"
      ],
      "metadata": {
        "id": "3-f1giZdspXN"
      }
    },
    {
      "cell_type": "markdown",
      "source": [
        "In Section 1.3.3 we created a class and some methods for implementing DFAs in Python and for visualizing their state diagrams. We may now want to know for a given DFA whether it accepts a given string over its input alphabet. Let's build a method for answering this question, by first building a method for tracing through the states encountered by the DFA as it processes an input string."
      ],
      "metadata": {
        "id": "i_jm8cU1tE3k"
      }
    },
    {
      "cell_type": "code",
      "source": [
        "# Method for tracing through the sequence of states of the finite automaton as it processes an input string.\n",
        "def trace(self, input_string):\n",
        "  trace = [self.start_state]\n",
        "  current_state = self.start_state\n",
        "  for symbol in input_string:\n",
        "    if (current_state, symbol) not in self.transition_function:\n",
        "      trace.append(None)\n",
        "      break\n",
        "    current_state = self.transition_function[(current_state, symbol)]\n",
        "    trace.append(current_state)\n",
        "  return trace\n",
        "\n",
        "DFA.trace = trace"
      ],
      "metadata": {
        "id": "ggPQjjUtuTQ9"
      },
      "execution_count": 15,
      "outputs": []
    },
    {
      "cell_type": "code",
      "source": [
        "# Method for determining whether an input string is accepted by the finite automaton.\n",
        "def accepts(self, input_string):\n",
        "  trace = self.trace(input_string)\n",
        "  return trace[-1] in self.accept_states\n",
        "\n",
        "DFA.accepts = accepts"
      ],
      "metadata": {
        "id": "FVfk8AX5V5nJ"
      },
      "execution_count": 17,
      "outputs": []
    },
    {
      "cell_type": "markdown",
      "source": [
        "We can try these methods out on the finite *doubleletter* finite automaton we created above."
      ],
      "metadata": {
        "id": "sce9vKmwu2dP"
      }
    },
    {
      "cell_type": "code",
      "source": [
        "doubleletter.accepts('abbabaab')"
      ],
      "metadata": {
        "id": "ax0o5CKuvACU",
        "outputId": "bf9a800f-cf26-4643-d8b4-05c719965b43",
        "colab": {
          "base_uri": "https://localhost:8080/"
        }
      },
      "execution_count": 18,
      "outputs": [
        {
          "output_type": "execute_result",
          "data": {
            "text/plain": [
              "False"
            ]
          },
          "metadata": {},
          "execution_count": 18
        }
      ]
    },
    {
      "cell_type": "code",
      "source": [
        "doubleletter.accepts('abbabaabb')"
      ],
      "metadata": {
        "id": "yFp0uv3zvIL7",
        "outputId": "453209e3-9407-4ccb-949a-b6ae3b363152",
        "colab": {
          "base_uri": "https://localhost:8080/"
        }
      },
      "execution_count": 19,
      "outputs": [
        {
          "output_type": "execute_result",
          "data": {
            "text/plain": [
              "True"
            ]
          },
          "metadata": {},
          "execution_count": 19
        }
      ]
    },
    {
      "cell_type": "code",
      "source": [
        "doubleletter.accepts('aabbabaab')"
      ],
      "metadata": {
        "id": "ySbD-7WSvMC3",
        "outputId": "c0b2d058-4320-4796-c38d-ee964993b128",
        "colab": {
          "base_uri": "https://localhost:8080/"
        }
      },
      "execution_count": 20,
      "outputs": [
        {
          "output_type": "execute_result",
          "data": {
            "text/plain": [
              "True"
            ]
          },
          "metadata": {},
          "execution_count": 20
        }
      ]
    },
    {
      "cell_type": "markdown",
      "source": [
        "The first string neither begins nor ends with a double letter, and so is not accepted. The second string ends with a double letter, and so is accepted. The third string begins with a double letter, and so is accepted."
      ],
      "metadata": {
        "id": "WINX_SkWvOay"
      }
    },
    {
      "cell_type": "markdown",
      "source": [
        "If we wanted to trace out the sequence of states of the *doubleletter* finite automaton as it reads the string \"abbabaab\" we can use the *trace* method."
      ],
      "metadata": {
        "id": "rFT4ntk6vYJS"
      }
    },
    {
      "cell_type": "code",
      "source": [
        "doubleletter.trace('abbabaab')"
      ],
      "metadata": {
        "id": "k55Jfh2mvira",
        "outputId": "890b37cc-2ee2-4e54-af7c-2c1854bd3bae",
        "colab": {
          "base_uri": "https://localhost:8080/"
        }
      },
      "execution_count": 21,
      "outputs": [
        {
          "output_type": "execute_result",
          "data": {
            "text/plain": [
              "['q0', 'q3', 'q6', 'q8', 'q5', 'q6', 'q5', 'q7', 'q6']"
            ]
          },
          "metadata": {},
          "execution_count": 21
        }
      ]
    },
    {
      "cell_type": "markdown",
      "source": [
        "**Example 3** - What is the sequence of states visited by the *doubleletter* finite automaton for the input string \"abbabbaab\"?"
      ],
      "metadata": {
        "id": "Y9H3SyE8v20p"
      }
    },
    {
      "cell_type": "markdown",
      "source": [
        "**Example 3 Solution** -"
      ],
      "metadata": {
        "id": "ZmvQ-bltwB4b"
      }
    },
    {
      "cell_type": "code",
      "source": [
        "doubleletter.trace('abbabbaab')"
      ],
      "metadata": {
        "id": "gH6_ZIPNwI0R",
        "outputId": "28d8d038-53b8-48ee-9e9c-f11e15a952cf",
        "colab": {
          "base_uri": "https://localhost:8080/"
        }
      },
      "execution_count": 22,
      "outputs": [
        {
          "output_type": "execute_result",
          "data": {
            "text/plain": [
              "['q0', 'q3', 'q6', 'q8', 'q5', 'q6', 'q8', 'q5', 'q7', 'q6']"
            ]
          },
          "metadata": {},
          "execution_count": 22
        }
      ]
    },
    {
      "cell_type": "markdown",
      "source": [
        "It's last state, 'q6', is not an accepting state, and so the string would not be accepted.\n",
        "\n"
      ],
      "metadata": {
        "id": "5KYDVvlzvs58"
      }
    },
    {
      "cell_type": "code",
      "source": [
        "doubleletter.accepts('abbabbaab')"
      ],
      "metadata": {
        "id": "yOSeSL0LwOp8",
        "outputId": "4b59ad7a-406e-40c6-ecbb-162b968892bb",
        "colab": {
          "base_uri": "https://localhost:8080/"
        }
      },
      "execution_count": 23,
      "outputs": [
        {
          "output_type": "execute_result",
          "data": {
            "text/plain": [
              "False"
            ]
          },
          "metadata": {},
          "execution_count": 23
        }
      ]
    },
    {
      "cell_type": "markdown",
      "source": [
        "**NOTE** - The way we've designed the DFA class, by first specifying the class and its constructor, and then adding methods in later cells, is not best practice. We'd usually want to build all the methods we need into the initial class definition. We chose to introduce the methods one at a time for teaching purposes, but an implementation of the DFA class with all the methods included in its initial definition can be found in the appendix at the end of this chapter (Section 1.3.8)."
      ],
      "metadata": {
        "id": "tUpNbj9hwVHJ"
      }
    },
    {
      "cell_type": "markdown",
      "source": [
        "## 1.3.6 Practice Exercises"
      ],
      "metadata": {
        "id": "hoaUsgGHT4FV"
      }
    },
    {
      "cell_type": "markdown",
      "source": [
        "**NOTE** - For the following exercises the input alphabet is always $\\Sigma = \\{a,b\\}$. For each of these you should create the state diagram and / or transition table on your own, then create the corresponding DFA object in Python, then verify the given word is accepted by the DFA."
      ],
      "metadata": {
        "id": "R9YeuqEQqb0y"
      }
    },
    {
      "cell_type": "markdown",
      "source": [
        "**Exercise 1**: Create a state diagram *and* a transition table for a DFA that accepts only the words $baa$, $ab$, and $abb$ and no other words.\n",
        "\n",
        "*Word* - \"abb\"."
      ],
      "metadata": {
        "id": "B8jQZJkFUDkj"
      }
    },
    {
      "cell_type": "markdown",
      "source": [
        "**Exercise 2**: Create a state diagram for a DFA that accepts only those words that have more than four letters.\n",
        "\n",
        "*Word* - \"abbaba\"."
      ],
      "metadata": {
        "id": "5vZxOUp5UOyl"
      }
    },
    {
      "cell_type": "markdown",
      "source": [
        "**Exercise 3:** Create a state diagram for a DFA that accepts only those words that have fewer than four letters.\n",
        "\n",
        "*Word* - \"bab\"."
      ],
      "metadata": {
        "id": "IqnEg8i1UVwH"
      }
    },
    {
      "cell_type": "markdown",
      "source": [
        "**Exercise 4:** Create a state diagram for a DFA that accepts only those words with *exactly* four letters.\n",
        "\n",
        "*Word* - \"abba\"."
      ],
      "metadata": {
        "id": "998o6myhUfUo"
      }
    },
    {
      "cell_type": "markdown",
      "source": [
        "## 1.3.7 Further Reading"
      ],
      "metadata": {
        "id": "kLyhJCP0V_oE"
      }
    },
    {
      "cell_type": "markdown",
      "source": [
        "* \"Introduction to Computer Theory\" by Daniel I.A. Cohen *Chapter 5 - Finite Automata*\n",
        "* \"Introduction to the Theory of Computation\" by Michael Sipser *Section 1.1 - Finite Automata*\n",
        "* \"Automata Theory, Languages, and Computation\" by Hopcroft, Motwani, and Ullman *Chapter 2 - Finite Automata*\n",
        "* More on [graphviz](https://graphviz.org/)"
      ],
      "metadata": {
        "id": "7sTGNrp9WBAY"
      }
    },
    {
      "cell_type": "markdown",
      "source": [
        "## 1.3.8 Appendix: The DFA Class with All Methods"
      ],
      "metadata": {
        "id": "-9viBSGNxAA5"
      }
    },
    {
      "cell_type": "markdown",
      "source": [
        "To use and run, remove the comments."
      ],
      "metadata": {
        "id": "emM5zsZKypMQ"
      }
    },
    {
      "cell_type": "code",
      "source": [
        "'''\n",
        "class DFA:\n",
        "    def __init__(self, states, alphabet, transition_function, start_state, accept_states):\n",
        "        self.states = set(states)\n",
        "        self.alphabet = set(alphabet)\n",
        "        self.transition_function = transition_function\n",
        "        self.start_state = start_state\n",
        "        self.accept_states = set(accept_states)\n",
        "\n",
        "        self._validate()\n",
        "\n",
        "    def _validate(self):\n",
        "        if self.start_state not in self.states:\n",
        "            raise ValueError(\"Start state must be in states.\")\n",
        "        if not self.accept_states.issubset(self.states):\n",
        "            raise ValueError(\"Accept states must be a subset of states.\")\n",
        "\n",
        "        # Ensure total transition function\n",
        "        for state in self.states:\n",
        "            for symbol in self.alphabet:\n",
        "                if (state, symbol) not in self.transition_function:\n",
        "                    raise ValueError(f\"Missing transition for state '{state}' on symbol '{symbol}'.\")\n",
        "\n",
        "        # Ensure all transitions are to valid states and symbols\n",
        "        for (state, symbol), next_state in self.transition_function.items():\n",
        "            if state not in self.states or next_state not in self.states:\n",
        "                raise ValueError(f\"Invalid transition: ({state}, {symbol}) → {next_state}\")\n",
        "            if symbol not in self.alphabet:\n",
        "                raise ValueError(f\"Symbol '{symbol}' not in alphabet.\")\n",
        "\n",
        "    def trace(self, input_string):\n",
        "        trace = [self.start_state]\n",
        "        current_state = self.start_state\n",
        "        for symbol in input_string:\n",
        "            if (current_state, symbol) not in self.transition_function:\n",
        "                trace.append(None)\n",
        "                break\n",
        "            current_state = self.transition_function[(current_state, symbol)]\n",
        "            trace.append(current_state)\n",
        "        return trace\n",
        "\n",
        "    def accepts(self, input_string):\n",
        "        trace = self.trace(input_string)\n",
        "        return trace[-1] in self.accept_states\n",
        "\n",
        "    def show(self):\n",
        "        \"\"\"Display DFA inline in a Jupyter notebook.\"\"\"\n",
        "        dot = self._build_graph()\n",
        "        display(Source(dot.source))\n",
        "\n",
        "    def _build_graph(self):\n",
        "        dot = Digraph()\n",
        "        dot.attr(rankdir='LR')\n",
        "        dot.node('', shape='none')\n",
        "        dot.edge('', self.start_state)\n",
        "\n",
        "        for state in self.states:\n",
        "            shape = 'doublecircle' if state in self.accept_states else 'circle'\n",
        "            dot.node(state, shape=shape)\n",
        "\n",
        "        for (src, symbol), dst in self.transition_function.items():\n",
        "            dot.edge(src, dst, label=symbol)\n",
        "\n",
        "        return dot\n",
        "''';"
      ],
      "metadata": {
        "id": "xlqryf4TxKGC"
      },
      "execution_count": null,
      "outputs": []
    }
  ]
}