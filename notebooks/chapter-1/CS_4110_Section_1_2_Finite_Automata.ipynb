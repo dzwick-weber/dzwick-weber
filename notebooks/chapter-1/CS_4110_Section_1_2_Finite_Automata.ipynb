{
  "cells": [
    {
      "cell_type": "markdown",
      "metadata": {
        "editable": true,
        "id": "ChVE6LNR4XT3",
        "tags": []
      },
      "source": [
        "#Chapter 1.2: Finite Automata - Test"
      ]
    },
    {
      "cell_type": "markdown",
      "metadata": {
        "id": "W5VkRVtK5cKq"
      },
      "source": [
        "##Learning Objectives"
      ]
    },
    {
      "cell_type": "markdown",
      "metadata": {
        "id": "eXR2G93J5eZw"
      },
      "source": [
        "After completing this chapter, you will be able to:\n",
        "\n",
        "* Define a finite automaton.\n",
        "* Represent a finite automaton with a state diagrom or a transition table.\n",
        "* Define a language with a finite automaton."
      ]
    },
    {
      "cell_type": "markdown",
      "metadata": {
        "id": "Q5qfeYK26W52"
      },
      "source": [
        "## 1.2.1 Basic Concepts and Definitions"
      ]
    },
    {
      "cell_type": "markdown",
      "metadata": {
        "id": "pUk9OVa_6bo1"
      },
      "source": [
        "Let's talk about games.\n",
        "\n",
        "In the United States two popular games for children are Candyland and Chutes and Ladders. You may have played one or both when you were a kid. The basic idea for both is very simple - you move along a sequence of squares by either drawing cards or rolling dice, and the goal is to get to the end of the sequence. It's a race, but there's no strategy involved - whether you win or lose is entirely up to the luck of either the draw or the roll. It's good for little children, and it teaches them to follow directions and pay attention, but its appeal is limited because it's not possible to get \"good\" at playing the game."
      ]
    },
    {
      "cell_type": "markdown",
      "metadata": {
        "id": "h35LV3zEHcxx"
      },
      "source": [
        "<center>\n",
        "  <img src=\"https://drive.google.com/uc?export=view&id=1kMNyzLVOnLLX_tnz5md6-pex-mDOueW_\" height = \"500\" alt=\"Candyland\">\n",
        "  <br>\n",
        "  <img src=\"https://drive.google.com/uc?export=view&id=1yVK7hhT8NUARwvZtAA8MxS_wODHR1Eu4\" height = \"600\" alt=\"Chutes and Ladders\">\n",
        "</center>"
      ]
    },
    {
      "cell_type": "markdown",
      "metadata": {
        "id": "L-ZZRDnSHgrH"
      },
      "source": [
        "What are some things these games have in common? Well, they both involve:\n",
        "* A finite set of states, one of which is designated as the initial state, called the *start state*, and some of which are designated winning or *final states*.\n",
        "* A set of possible inputs. In these cases, either the draw of a card or the roll of a dice.\n",
        "* A finite set of *transitions* that tell you for each state and for each input which state to go to next."
      ]
    },
    {
      "cell_type": "markdown",
      "metadata": {
        "id": "zpzBKG95HklE"
      },
      "source": [
        "Well, this is, essentially, the definition of a *finite automaton* (FA for short). It's *finite* because the number of possible states and possible inputs is finite, and *automaton* because the change of states is totally governed by the input. In other words, it's automatic - there is no choice involved. (\"Automaton\" comes from Greek, and its correct plural is \"automata\"). The formal definition is below."
      ]
    },
    {
      "cell_type": "markdown",
      "metadata": {
        "id": "enf5KZ-6ILmR"
      },
      "source": [
        "**Definition**\n",
        "\n",
        "A **finite automaton** consists of:\n",
        "* A finite set of states $Q$.\n",
        "* A finite set $\\Sigma$ of input characters, called its *alphabet*.\n",
        "* A transition function $T$, where for every state $q \\in Q$ and input character $a \\in \\Sigma$ there is a transition map $T(q,a) \\rightarrow q'$ specifying the next state after the automaton in state $q$ reads the input $a$.\n",
        "* A unique initial state $q_{0}$\n",
        "* A subset $F \\subseteq Q$ of final states. Note the set of final states could possibly be empty, and possibly have more than one element.\n",
        "\n",
        "This $5$-tuple, $(Q,\\Sigma,T,q_{0},F)$ definets a finite automaton."
      ]
    },
    {
      "cell_type": "markdown",
      "metadata": {
        "id": "-JcY9j8hKrf9"
      },
      "source": [
        "## 1.2.2 Representing Finite Automata"
      ]
    },
    {
      "cell_type": "markdown",
      "metadata": {
        "id": "BFp2fQalK1if"
      },
      "source": [
        "Let's suppose we have a much simpler game than either Candyland or Chutes and Ladders. Instead of rolling a dice we just flip a coin, so the possibilities at any state are just heads and tails. In other words, our input alphabet is just $\\Sigma = \\{H,T\\}$. Our board looks like this:"
      ]
    },
    {
      "cell_type": "markdown",
      "metadata": {
        "id": "M6uY8tkiMCda"
      },
      "source": [
        "<center>\n",
        "  <img src=\"https://drive.google.com/uc?export=view&id=1BYLUIXexFtMEWQFAvlBSB8-BQOeAotxD\" height = \"500\" alt=\"Simple Chutes and Ladders\">\n",
        "</center>"
      ]
    },
    {
      "cell_type": "markdown",
      "metadata": {
        "id": "SMS9GgFgKL65"
      },
      "source": [
        "The idea here is that:\n",
        "* The game starts at the initial state $1$.\n",
        "* On the first flip of the coin, the player advances to state $2$ for anything they flip.\n",
        "* At state $2$, if the player flips $T$ they take a ladder to the final state $4$. If the player flips $H$, they advance to state $3$.\n",
        "* At state $3$, if the player flips $H$ they take a chute back to the initial state $1$. For $T$, they advance to the final state $4$.\n",
        "* If, for some reason, the player wants to keep playing at the final state, they just stay there for any coin flip.\n",
        "\n",
        "In the board diagram, the circles (or *nodes*) are the different states, and the arrows marked with letters represent how those input letters transition between states. The initial state is marked with $-$, and the final states are makred with $+$. This is the basic idea behind the *state diagram* of a finite automaton, which is a compact and illuminating way of representing all its features."
      ]
    },
    {
      "cell_type": "markdown",
      "metadata": {
        "id": "nLGXCIVPM6Be"
      },
      "source": [
        "We could also represent the board using a *transition table*. Specifically, the rows of the table correspond with the states of the finite automaton, the columns correspond with the possible inputs (the alphabet), and the entries represent the transitions:\n",
        "\n",
        "<center>\n",
        "\n",
        "| State | H | T |\n",
        "| :---: | :---: | :---: |\n",
        "| 1 | 2 | 2 |\n",
        "| 2 | 3 | 4 |\n",
        "| 3 | 1 | 4 |\n",
        "| 4 | 4 | 4 |\n",
        "\n",
        "</center>"
      ]
    },
    {
      "cell_type": "markdown",
      "metadata": {
        "id": "Lr7-CBc7Rane"
      },
      "source": [
        "## 1.2.3 Finite Automata and Languages"
      ]
    },
    {
      "cell_type": "markdown",
      "metadata": {
        "id": "Y7kL0c_RSF3T"
      },
      "source": [
        "For the simple game above we can ask, for a given sequence of flips, we whether the player completes the game. For the sequence $HHHT$ the answer would be *no*. For the sequence $THT$, the answer would be *yes*. We can view the set of winning sequences of flips as a *language*, and we say the game - or finite automaton - above *accepts* this language.\n",
        "\n",
        "**NOTE** - For the following examples and exercises the input alphabet is $\\Sigma = \\{a,b\\}$."
      ]
    },
    {
      "cell_type": "markdown",
      "metadata": {
        "id": "pcwukgJ1SftC"
      },
      "source": [
        "**Example 1**: Build an FA that accepts only those words that begin or end with a double letter."
      ]
    },
    {
      "cell_type": "markdown",
      "metadata": {
        "id": "aIfZXt44TLYt"
      },
      "source": [
        "**Example Solution**:\n",
        "\n",
        "<center>\n",
        "  <img src=\"https://drive.google.com/uc?export=view&id=1voB1cCp-eK7NFwjo1xBuZCxVwCZa1MQy\" height = \"500\" alt=\"Section 1.2 Example 1 Solution\">\n",
        "</center>"
      ]
    },
    {
      "cell_type": "markdown",
      "metadata": {
        "id": "hoaUsgGHT4FV"
      },
      "source": [
        "## 1.2.4 Practice Exercises"
      ]
    },
    {
      "cell_type": "markdown",
      "metadata": {
        "id": "B8jQZJkFUDkj"
      },
      "source": [
        "**Exercise 1**: Create a state diagram *and* a transition table for an FA that accepts only the words $baa$, $ab$, and $abb$ and no other words."
      ]
    },
    {
      "cell_type": "markdown",
      "metadata": {
        "id": "5vZxOUp5UOyl"
      },
      "source": [
        "**Exercise 2**: Create a state diagram for an FA that accepts only those words that have more than four letters."
      ]
    },
    {
      "cell_type": "markdown",
      "metadata": {
        "id": "IqnEg8i1UVwH"
      },
      "source": [
        "**Exercise 3:** Create a state diagram for an FA that accepts only those words that have fewer than four letters."
      ]
    },
    {
      "cell_type": "markdown",
      "metadata": {
        "id": "998o6myhUfUo"
      },
      "source": [
        "**Exercise 4:** Create a state diagram for an FA that accepts only those words with *exactly* four letters."
      ]
    },
    {
      "cell_type": "markdown",
      "metadata": {
        "id": "kLyhJCP0V_oE"
      },
      "source": [
        "## Further Reading"
      ]
    },
    {
      "cell_type": "markdown",
      "metadata": {
        "id": "7sTGNrp9WBAY"
      },
      "source": [
        "* \"Introduction to Computer Theory\" by Daniel I.A. Cohen *Chapter 5 - Finite Automata*\n",
        "* \"Introduction to the Theory of Computation\" by Michael Sipser *Section 1.1 - Finite Automata*\n",
        "* \"Automata Theory, Languages, and Computation\" by Hopcroft, Motwani, and Ullman *Chapter 2 - Finite Automata*"
      ]
    }
  ],
  "metadata": {
    "colab": {
      "provenance": []
    },
    "kernelspec": {
      "display_name": "Python 3 (ipykernel)",
      "language": "python",
      "name": "python3"
    },
    "language_info": {
      "codemirror_mode": {
        "name": "ipython",
        "version": 3
      },
      "file_extension": ".py",
      "mimetype": "text/x-python",
      "name": "python",
      "nbconvert_exporter": "python",
      "pygments_lexer": "ipython3",
      "version": "3.12.6"
    }
  },
  "nbformat": 4,
  "nbformat_minor": 0
}